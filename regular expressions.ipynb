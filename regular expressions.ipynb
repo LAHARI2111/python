{
  "nbformat": 4,
  "nbformat_minor": 0,
  "metadata": {
    "colab": {
      "provenance": [],
      "gpuType": "T4"
    },
    "kernelspec": {
      "name": "python3",
      "display_name": "Python 3"
    },
    "language_info": {
      "name": "python"
    },
    "accelerator": "GPU"
  },
  "cells": [
    {
      "cell_type": "code",
      "execution_count": 1,
      "metadata": {
        "colab": {
          "base_uri": "https://localhost:8080/"
        },
        "id": "zQ-J4atgPAfp",
        "outputId": "c641047c-1292-4f15-caed-fc4648722877"
      },
      "outputs": [
        {
          "output_type": "stream",
          "name": "stdout",
          "text": [
            "iam going college for learning\n"
          ]
        }
      ],
      "source": [
        "print(\"iam going college for learning\")"
      ]
    },
    {
      "cell_type": "code",
      "source": [
        "print(\"iam going\\ncollege\\nfor learning\")"
      ],
      "metadata": {
        "colab": {
          "base_uri": "https://localhost:8080/"
        },
        "id": "MdwL4ujgQquf",
        "outputId": "b93f91b4-110c-4cf2-fd58-a62380f872ea"
      },
      "execution_count": 3,
      "outputs": [
        {
          "output_type": "stream",
          "name": "stdout",
          "text": [
            "iam going\n",
            "college\n",
            "for learning\n"
          ]
        }
      ]
    },
    {
      "cell_type": "code",
      "source": [
        "##   space(\\t)\n"
      ],
      "metadata": {
        "id": "H4efVLoiRt8q"
      },
      "execution_count": 5,
      "outputs": []
    },
    {
      "cell_type": "code",
      "source": [
        "print(\"iam going\\ncollege\\nfor\\tlearning\")"
      ],
      "metadata": {
        "colab": {
          "base_uri": "https://localhost:8080/"
        },
        "id": "QR7rjKyWQ1h9",
        "outputId": "64c374af-9195-41cd-ce21-8f3294c44853"
      },
      "execution_count": 4,
      "outputs": [
        {
          "output_type": "stream",
          "name": "stdout",
          "text": [
            "iam going\n",
            "college\n",
            "for\tlearning\n"
          ]
        }
      ]
    },
    {
      "cell_type": "code",
      "source": [
        "## carriage return(\\r)"
      ],
      "metadata": {
        "id": "v-ASJ-eIShLQ"
      },
      "execution_count": 7,
      "outputs": []
    },
    {
      "cell_type": "code",
      "source": [
        "print(\"iam going\\ncollege\\rfor\\tlearning\")"
      ],
      "metadata": {
        "colab": {
          "base_uri": "https://localhost:8080/"
        },
        "id": "T7YMnzRsSn6Z",
        "outputId": "699b41c8-a2f4-4eb5-d44a-be5db4c963fd"
      },
      "execution_count": 8,
      "outputs": [
        {
          "output_type": "stream",
          "name": "stdout",
          "text": [
            "iam going\n",
            "college\rfor\tlearning\n"
          ]
        }
      ]
    },
    {
      "cell_type": "code",
      "source": [
        "import re"
      ],
      "metadata": {
        "id": "hxF0EYa6SlWh"
      },
      "execution_count": 9,
      "outputs": []
    },
    {
      "cell_type": "code",
      "source": [],
      "metadata": {
        "id": "K3_ZZmazTM_5"
      },
      "execution_count": null,
      "outputs": []
    },
    {
      "cell_type": "markdown",
      "source": [
        "# rematch()"
      ],
      "metadata": {
        "id": "PW5ga2R6TXGE"
      }
    },
    {
      "cell_type": "code",
      "source": [
        "string=\"007 james bond wants to learn the python\"\n",
        "pattern=r'\\d+'\n",
        "matching=re.match(pattern,string)\n",
        "matching.group()"
      ],
      "metadata": {
        "colab": {
          "base_uri": "https://localhost:8080/",
          "height": 35
        },
        "id": "Fn0GOIG7TZOE",
        "outputId": "3c5410ad-c5a3-4626-d599-d5750db9ad9a"
      },
      "execution_count": 10,
      "outputs": [
        {
          "output_type": "execute_result",
          "data": {
            "text/plain": [
              "'007'"
            ],
            "application/vnd.google.colaboratory.intrinsic+json": {
              "type": "string"
            }
          },
          "metadata": {},
          "execution_count": 10
        }
      ]
    },
    {
      "cell_type": "code",
      "source": [],
      "metadata": {
        "id": "gcIQTBmyVFOY"
      },
      "execution_count": null,
      "outputs": []
    },
    {
      "cell_type": "code",
      "source": [
        "string=\"james bond 007 wants 008 to learn the python\"\n",
        "pattern=r'\\d+'\n",
        "matching=re.search(pattern,string)\n",
        "matching.group()"
      ],
      "metadata": {
        "colab": {
          "base_uri": "https://localhost:8080/",
          "height": 35
        },
        "id": "cOTKjTx1TuiT",
        "outputId": "b318fb60-1917-403c-b024-9b2b9d6a7e1a"
      },
      "execution_count": 11,
      "outputs": [
        {
          "output_type": "execute_result",
          "data": {
            "text/plain": [
              "'007'"
            ],
            "application/vnd.google.colaboratory.intrinsic+json": {
              "type": "string"
            }
          },
          "metadata": {},
          "execution_count": 11
        }
      ]
    },
    {
      "cell_type": "code",
      "source": [],
      "metadata": {
        "id": "u1oxZP6bVHiz"
      },
      "execution_count": null,
      "outputs": []
    },
    {
      "cell_type": "markdown",
      "source": [
        "## re.findall()"
      ],
      "metadata": {
        "id": "PiVfM8y9VpG5"
      }
    },
    {
      "cell_type": "code",
      "source": [
        "string=\"james bond 007 wants 008 to learn the python\"\n",
        "pattern=r'\\d+'\n",
        "matching=re.findall(pattern,string)\n",
        "matching"
      ],
      "metadata": {
        "colab": {
          "base_uri": "https://localhost:8080/"
        },
        "id": "gcaDFikqVrvx",
        "outputId": "b8e8fb12-fa21-4acd-980d-cc4612458f6d"
      },
      "execution_count": 12,
      "outputs": [
        {
          "output_type": "execute_result",
          "data": {
            "text/plain": [
              "['007', '008']"
            ]
          },
          "metadata": {},
          "execution_count": 12
        }
      ]
    },
    {
      "cell_type": "markdown",
      "source": [
        "# re.sub()"
      ],
      "metadata": {
        "id": "GiMSKQXqWuVZ"
      }
    },
    {
      "cell_type": "code",
      "source": [
        "string=\"james bond 007 wants 008 to learn the python\"\n",
        "pattern=r'\\d'\n",
        "matching=re.sub(pattern,'#',string)\n",
        "matching"
      ],
      "metadata": {
        "colab": {
          "base_uri": "https://localhost:8080/",
          "height": 35
        },
        "id": "VvYzHbelVz7J",
        "outputId": "60fe9141-0845-4e21-ff30-9550c1daa335"
      },
      "execution_count": 14,
      "outputs": [
        {
          "output_type": "execute_result",
          "data": {
            "text/plain": [
              "'james bond ### wants ### to learn the python'"
            ],
            "application/vnd.google.colaboratory.intrinsic+json": {
              "type": "string"
            }
          },
          "metadata": {},
          "execution_count": 14
        }
      ]
    },
    {
      "cell_type": "code",
      "source": [
        "# Test case\n",
        "text = \"\"\"\n",
        "Hello world! Contact us at info@example.com or support123@company.org. Follow us on social media: #AI #MachineLearning.\n",
        "Visit <a href=\"http://example.com\">our website</a> for more details. This is a test with number 1234.\n",
        "\"\"\""
      ],
      "metadata": {
        "id": "RPICIECOYq0k"
      },
      "execution_count": null,
      "outputs": []
    },
    {
      "cell_type": "code",
      "source": [
        "import re\n",
        "\n",
        "def clean_and_extract(text):\n",
        "    # Extract email addresses\n",
        "    emails = re.findall(r'[a-zA-Z0-9._%+-]+@[a-zA-Z0-9.-]+\\.[a-zA-Z]{2,}', text)\n",
        "\n",
        "    # Extract hashtags\n",
        "    hashtags = re.findall(r'#\\w+', text)\n",
        "\n",
        "    # Remove numbers\n",
        "    text = re.sub(r'\\d+', '', text)\n",
        "\n",
        "    # Remove HTML tags\n",
        "    text = re.sub(r'<.*?>', '', text)\n",
        "\n",
        "    # Normalize whitespace\n",
        "    text = re.sub(r'\\s+', ' ', text).strip()\n",
        "\n",
        "    return {\n",
        "        \"cleaned_text\": text,\n",
        "        \"emails\": emails,\n",
        "        \"hashtags\": hashtags\n",
        "    }\n",
        "\n",
        "# Test case\n",
        "text = \"\"\"\n",
        "Hello world! Contact us at info@example.com or support123@company.org. Follow us on social media: #AI #MachineLearning.\n",
        "Visit <a href=\"http://example.com\">our website</a> for more details. This is a test with number 1234.\n",
        "\"\"\"\n",
        "\n",
        "result = clean_and_extract(text)\n",
        "print(\"Cleaned Text:\", result[\"cleaned_text\"])\n",
        "print(\"Emails:\", result[\"emails\"])\n",
        "print(\"Hashtags:\", result[\"hashtags\"])\n"
      ],
      "metadata": {
        "colab": {
          "base_uri": "https://localhost:8080/"
        },
        "id": "GDu9pCPuYwCf",
        "outputId": "3cb5f3e6-7f60-4573-ea6e-786b464efd77"
      },
      "execution_count": 16,
      "outputs": [
        {
          "output_type": "stream",
          "name": "stdout",
          "text": [
            "Cleaned Text: Hello world! Contact us at info@example.com or support@company.org. Follow us on social media: #AI #MachineLearning. Visit our website for more details. This is a test with number .\n",
            "Emails: ['info@example.com', 'support123@company.org']\n",
            "Hashtags: ['#AI', '#MachineLearning']\n"
          ]
        }
      ]
    },
    {
      "cell_type": "code",
      "source": [
        "# Test case\n",
        "text = \"\"\"\n",
        "Hello world! Contact us at info@example.com or support123@company.org. Follow us on social media: #AI #MachineLearning.\n",
        "Visit <a href=\"http://example.com\">our website</a> for more details. This is a test with number 1234.\n",
        "\"\"\""
      ],
      "metadata": {
        "id": "LlcHe-r8Yytt"
      },
      "execution_count": 17,
      "outputs": []
    },
    {
      "cell_type": "code",
      "source": [
        "pattern=r'[a-zA-Z0-9._%+-]+@[a-zA-Z0-9.-]+\\.[a-zA-Z]{2,}'\n",
        "emails=re.findall(pattern,text)\n",
        "emails"
      ],
      "metadata": {
        "colab": {
          "base_uri": "https://localhost:8080/"
        },
        "id": "VfjiD7wQY1uN",
        "outputId": "bd178c4a-67d7-4a7c-851b-a775a079eb6b"
      },
      "execution_count": 19,
      "outputs": [
        {
          "output_type": "execute_result",
          "data": {
            "text/plain": [
              "['info@example.com', 'support123@company.org']"
            ]
          },
          "metadata": {},
          "execution_count": 19
        }
      ]
    },
    {
      "cell_type": "code",
      "source": [
        "hash_tags=re.findall(r'\\w+',text)\n",
        "hash_tags"
      ],
      "metadata": {
        "colab": {
          "base_uri": "https://localhost:8080/"
        },
        "id": "Dog3P61fZ_e9",
        "outputId": "3595a02a-4772-491f-8ffd-b5850834391b"
      },
      "execution_count": 20,
      "outputs": [
        {
          "output_type": "execute_result",
          "data": {
            "text/plain": [
              "['Hello',\n",
              " 'world',\n",
              " 'Contact',\n",
              " 'us',\n",
              " 'at',\n",
              " 'info',\n",
              " 'example',\n",
              " 'com',\n",
              " 'or',\n",
              " 'support123',\n",
              " 'company',\n",
              " 'org',\n",
              " 'Follow',\n",
              " 'us',\n",
              " 'on',\n",
              " 'social',\n",
              " 'media',\n",
              " 'AI',\n",
              " 'MachineLearning',\n",
              " 'Visit',\n",
              " 'a',\n",
              " 'href',\n",
              " 'http',\n",
              " 'example',\n",
              " 'com',\n",
              " 'our',\n",
              " 'website',\n",
              " 'a',\n",
              " 'for',\n",
              " 'more',\n",
              " 'details',\n",
              " 'This',\n",
              " 'is',\n",
              " 'a',\n",
              " 'test',\n",
              " 'with',\n",
              " 'number',\n",
              " '1234']"
            ]
          },
          "metadata": {},
          "execution_count": 20
        }
      ]
    },
    {
      "cell_type": "code",
      "source": [
        "hash_tags=re.findall(r'#\\w+',text)\n",
        "hash_tags"
      ],
      "metadata": {
        "colab": {
          "base_uri": "https://localhost:8080/"
        },
        "id": "KZfYruK5bF0X",
        "outputId": "6abacae4-5c82-4db3-e0a3-6856c10c3107"
      },
      "execution_count": 21,
      "outputs": [
        {
          "output_type": "execute_result",
          "data": {
            "text/plain": [
              "['#AI', '#MachineLearning']"
            ]
          },
          "metadata": {},
          "execution_count": 21
        }
      ]
    },
    {
      "cell_type": "code",
      "source": [
        "import re\n",
        "\n",
        "# Test case\n",
        "text = \"\"\"\n",
        "Hello world! Contact us at info@example.com or support123@company.org. Follow us on social media: #AI #MachineLearning.\n",
        "Visit <a href=\"http://example.com\">our website</a> for more details. This is a test with number 1234.\n",
        "\"\"\"\n",
        "\n",
        "# Extract email addresses\n",
        "emails = re.findall(r'[a-zA-Z0-9._%+-]+@[a-zA-Z0-9.-]+\\.[a-zA-Z]{2,}', text)\n",
        "\n",
        "# Extract hashtags\n",
        "hash_tags = re.findall(r'#\\w+', text)\n",
        "\n",
        "# Remove numbers\n",
        "text = re.sub(r'\\d+', '', text)\n",
        "\n",
        "# Remove HTML tags\n",
        "text = re.sub(r'<.*?>', '', text)\n",
        "\n",
        "# Normalize whitespace\n",
        "text = re.sub(r'\\s+', ' ', text).strip()\n",
        "\n",
        "print(\"Cleaned Text:\", text)\n",
        "print(\"Emails:\", emails)\n",
        "print(\"Hashtags:\", hash_tags)\n"
      ],
      "metadata": {
        "colab": {
          "base_uri": "https://localhost:8080/"
        },
        "id": "WTVAE0kRbMwN",
        "outputId": "4fac2820-a78c-4dba-b789-1e7a76869538"
      },
      "execution_count": 22,
      "outputs": [
        {
          "output_type": "stream",
          "name": "stdout",
          "text": [
            "Cleaned Text: Hello world! Contact us at info@example.com or support@company.org. Follow us on social media: #AI #MachineLearning. Visit our website for more details. This is a test with number .\n",
            "Emails: ['info@example.com', 'support123@company.org']\n",
            "Hashtags: ['#AI', '#MachineLearning']\n"
          ]
        }
      ]
    },
    {
      "cell_type": "code",
      "source": [],
      "metadata": {
        "id": "Nu3MG1J7cdKh"
      },
      "execution_count": null,
      "outputs": []
    }
  ]
}